{
 "cells": [
  {
   "cell_type": "code",
   "execution_count": 3,
   "id": "54caa56c",
   "metadata": {},
   "outputs": [
    {
     "name": "stdout",
     "output_type": "stream",
     "text": [
      "enter the percept\n",
      "dirty\n",
      "enter the location\n",
      "A\n",
      "action: suck...turn right\n",
      "Do you want to continue?\n",
      "Enter Y or NY\n",
      "enter the percept\n",
      "clean\n",
      "enter the location\n",
      "B\n",
      "action: turn left\n",
      "Do you want to continue?\n",
      "Enter Y or NN\n"
     ]
    }
   ],
   "source": [
    "flag=True\n",
    "count=1\n",
    "while flag:\n",
    "    perc=input(\"enter the percept\\n\")\n",
    "    loc=input(\"enter the location\\n\")\n",
    "    if loc==\"A\":\n",
    "        if perc==\"dirty\":\n",
    "            print(\"action: suck...turn right\")\n",
    "            \n",
    "        else:\n",
    "            print(\"action: turn right\")\n",
    "            \n",
    "    else:\n",
    "        if perc==\"dirty\":\n",
    "            print(\"action: suck.....turn left\")\n",
    "            \n",
    "        else:\n",
    "            print(\"action: turn left\")\n",
    "    \n",
    "    print(\"Do you want to continue?\")\n",
    "    Cont=input(\"Enter Y or N\")\n",
    "    if Cont == 'Y':\n",
    "         flag= True\n",
    "    else : \n",
    "         flag = False\n"
   ]
  },
  {
   "cell_type": "code",
   "execution_count": null,
   "id": "05265df8",
   "metadata": {},
   "outputs": [],
   "source": []
  }
 ],
 "metadata": {
  "kernelspec": {
   "display_name": "Python 3",
   "language": "python",
   "name": "python3"
  },
  "language_info": {
   "codemirror_mode": {
    "name": "ipython",
    "version": 3
   },
   "file_extension": ".py",
   "mimetype": "text/x-python",
   "name": "python",
   "nbconvert_exporter": "python",
   "pygments_lexer": "ipython3",
   "version": "3.8.8"
  }
 },
 "nbformat": 4,
 "nbformat_minor": 5
}
