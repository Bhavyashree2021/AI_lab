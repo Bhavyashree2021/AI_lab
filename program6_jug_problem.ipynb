{
 "cells": [
  {
   "cell_type": "code",
   "execution_count": 1,
   "id": "521a4a69",
   "metadata": {},
   "outputs": [
    {
     "name": "stdout",
     "output_type": "stream",
     "text": [
      "JUG1\tJUG2\n",
      "0\t0\n",
      "3\t0\n",
      "0\t3\n",
      "3\t3\n",
      "2\t4\n",
      "0\t2\n"
     ]
    }
   ],
   "source": [
    "  \n",
    "def pour(jug1, jug2):\n",
    "    max1, max2, fill = 3, 4, 2  #Change maximum capacity and final capacity\n",
    "    print(\"%d\\t%d\" % (jug1, jug2))\n",
    "    if jug2 is fill:\n",
    "        return\n",
    "    elif jug2 is max2:#5\n",
    "        pour(0, jug1)              # fill jug2 = jug1 and jug1 = 0\n",
    "    elif jug1 != 0 and jug2 == 0:#2\n",
    "        pour(0, jug1)              #swap and empty jug1\n",
    "    elif jug1 is fill:\n",
    "        pour(jug1, 0)              # jug1 = 2lts jug2 = 0 (empty jug2)\n",
    "    elif jug1 < max1: #1\n",
    "        pour(max1, jug2)           #fill jug1\n",
    "    elif jug1 < (max2-jug2):\n",
    "        pour(0, (jug1+jug2))       #pour jug1 into jug2 and then empty jug1\n",
    "    else: #4\n",
    "        pour(jug1-(max2-jug2), (max2-jug2)+jug2)\n",
    " \n",
    "print(\"JUG1\\tJUG2\")\n",
    "pour(0, 0)"
   ]
  },
  {
   "cell_type": "code",
   "execution_count": null,
   "id": "06d5c852",
   "metadata": {},
   "outputs": [],
   "source": []
  }
 ],
 "metadata": {
  "kernelspec": {
   "display_name": "Python 3",
   "language": "python",
   "name": "python3"
  },
  "language_info": {
   "codemirror_mode": {
    "name": "ipython",
    "version": 3
   },
   "file_extension": ".py",
   "mimetype": "text/x-python",
   "name": "python",
   "nbconvert_exporter": "python",
   "pygments_lexer": "ipython3",
   "version": "3.8.8"
  }
 },
 "nbformat": 4,
 "nbformat_minor": 5
}
