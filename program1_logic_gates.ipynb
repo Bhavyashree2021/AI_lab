{
 "cells": [
  {
   "cell_type": "code",
   "execution_count": 1,
   "id": "85fe1238",
   "metadata": {},
   "outputs": [
    {
     "name": "stdout",
     "output_type": "stream",
     "text": [
      "False\n",
      "False\n",
      "False\n",
      "True\n"
     ]
    }
   ],
   "source": [
    "def AND (a, b):\n",
    "   if a == 1 and b == 1:\n",
    "      return True\n",
    "   else:\n",
    "      return False\n",
    "\n",
    "# main function\n",
    "if __name__=='__main__':\n",
    "   print(AND(0,0))\n",
    "   print(AND(1,0))\n",
    "   print(AND(0,1))\n",
    "   print(AND(1,1))"
   ]
  },
  {
   "cell_type": "code",
   "execution_count": 2,
   "id": "07a57370",
   "metadata": {},
   "outputs": [
    {
     "name": "stdout",
     "output_type": "stream",
     "text": [
      "False\n",
      "True\n",
      "True\n",
      "True\n"
     ]
    }
   ],
   "source": [
    "def OR(a, b):\n",
    "   if a == 1:\n",
    "      return True\n",
    "   elif b == 1:\n",
    "      return True\n",
    "   else:\n",
    "      return False\n",
    "# main function\n",
    "if __name__=='__main__':\n",
    "   print(OR(0,0))\n",
    "   print(OR(1,0))\n",
    "   print(OR(0,1))\n",
    "   print(OR(1,1))"
   ]
  },
  {
   "cell_type": "code",
   "execution_count": 4,
   "id": "0c43c58a",
   "metadata": {},
   "outputs": [
    {
     "name": "stdout",
     "output_type": "stream",
     "text": [
      "1\n",
      "0\n"
     ]
    }
   ],
   "source": [
    "def NOT(a):\n",
    "   if(a == 0):\n",
    "      return 1\n",
    "   elif(a == 1):\n",
    "      return 0\n",
    "\n",
    "# main function\n",
    "if __name__=='__main__':\n",
    "   print(NOT(0))\n",
    "   print(NOT(1))"
   ]
  },
  {
   "cell_type": "code",
   "execution_count": null,
   "id": "fa7f5dbd",
   "metadata": {},
   "outputs": [],
   "source": []
  }
 ],
 "metadata": {
  "kernelspec": {
   "display_name": "Python 3",
   "language": "python",
   "name": "python3"
  },
  "language_info": {
   "codemirror_mode": {
    "name": "ipython",
    "version": 3
   },
   "file_extension": ".py",
   "mimetype": "text/x-python",
   "name": "python",
   "nbconvert_exporter": "python",
   "pygments_lexer": "ipython3",
   "version": "3.8.8"
  }
 },
 "nbformat": 4,
 "nbformat_minor": 5
}
